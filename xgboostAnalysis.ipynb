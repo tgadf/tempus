{
 "cells": [
  {
   "cell_type": "markdown",
   "metadata": {},
   "source": [
    "# Purpose"
   ]
  },
  {
   "cell_type": "markdown",
   "metadata": {},
   "source": [
    "The purpose of this notebook is to model the total miles driven in a day"
   ]
  },
  {
   "cell_type": "code",
   "execution_count": 1,
   "metadata": {},
   "outputs": [
    {
     "name": "stdout",
     "output_type": "stream",
     "text": [
      "Notebook Last Run Initiated: 2018-04-05 09:39:04.717411\n"
     ]
    }
   ],
   "source": [
    "import datetime as dt\n",
    "start = dt.datetime.now()\n",
    "print(\"Notebook Last Run Initiated: \"+str(start))"
   ]
  },
  {
   "cell_type": "markdown",
   "metadata": {},
   "source": [
    "# Global Vars"
   ]
  },
  {
   "cell_type": "code",
   "execution_count": 2,
   "metadata": {},
   "outputs": [
    {
     "name": "stdout",
     "output_type": "stream",
     "text": [
      "Current Time is Thu Apr 05, 2018 09:39:04 for Begin\n"
     ]
    }
   ],
   "source": [
    "inputdatadir = '/home/tgadf/astro_research_data/futuremiles/sparkData'\n",
    "outdatadir   = '/home/tgadf/astro_research_data/futuremiles/modelData'\n",
    "scoredatadir = '/home/tgadf/astro_research_data/futuremiles/modelData'\n",
    "dataSuffix='20180402'\n",
    "from timeUtils import getTimeSuffix\n",
    "timeSuffix = getTimeSuffix()\n",
    "timeSuffix='20180402'\n",
    "n_jobs = 4\n",
    "splitKey = None\n",
    "\n",
    "extra='oldfeatures'\n",
    "targetcol='total_miles'\n",
    "\n",
    "useAnne=False\n",
    "if useAnne is True:\n",
    "    extra='oldfeaturesbyvin'\n",
    "    targetcol='total_miles'\n",
    "else:\n",
    "    extra='newfeatures'\n",
    "    targetcol='target'\n",
    "    \n",
    "    suffix='weekend'\n",
    "    suffix=\"weekday\"\n",
    "    extra='newfeatures_{0}'.format(suffix)\n",
    "    dataname='rolling_{0}'.format(suffix)\n",
    "    \n",
    "    #dataSuffix='20180331'\n",
    "    suffix='newwindows_annedev'\n",
    "    #suffix='oldwindows_annesdev'\n",
    "    #suffix='newwindows_randomdev'\n",
    "    extra='newfeatures_{0}'.format(suffix)\n",
    "    dataname='rolling_{0}'.format(suffix)\n",
    "    targetcol='target'\n",
    "    \n",
    "    #extra='anne_data'\n",
    "    #dataname='anne_data'\n",
    "    #targetcol='total_miles'"
   ]
  },
  {
   "cell_type": "markdown",
   "metadata": {},
   "source": [
    "# Module Imports"
   ]
  },
  {
   "cell_type": "code",
   "execution_count": 3,
   "metadata": {},
   "outputs": [
    {
     "name": "stdout",
     "output_type": "stream",
     "text": [
      "3.6.4 |Anaconda custom (64-bit)| (default, Jan 16 2018, 18:10:19) \n",
      "[GCC 7.2.0]\n"
     ]
    }
   ],
   "source": [
    "\n",
    "from numpy import reshape\n",
    "from pandas import DataFrame, Series, to_datetime\n",
    "import xgboost\n",
    "\n",
    "from sklearn.model_selection import train_test_split\n",
    "from sklearn.linear_model import LinearRegression, Ridge, LogisticRegression, SGDRegressor, BayesianRidge\n",
    "from sklearn.preprocessing import FunctionTransformer, QuantileTransformer, MinMaxScaler, RobustScaler\n",
    "from sklearn.ensemble import ExtraTreesRegressor\n",
    "from sklearn import metrics\n",
    "from sklearn.base import ClassifierMixin,RegressorMixin\n",
    "\n",
    "from modelio import loadData, saveData, splitData, LoadOriginalData, splitDataByKey\n",
    "from modelio import loadModel, saveModel\n",
    "from modelio import savePredictData, splitFeaturesTarget\n",
    "\n",
    "from timeUtils import clock, elapsed\n",
    "from pandasUtils import cutDataFrameByDate, dropColumns, fillNAWithZero\n",
    "\n",
    "from traintest import trainEstimator, predictEstimator, tuneEstimator\n",
    "\n",
    "from transform import transformData\n",
    "\n",
    "from pyearth import Earth\n",
    "\n",
    "import sys\n",
    "print(sys.version)"
   ]
  },
  {
   "cell_type": "markdown",
   "metadata": {},
   "source": [
    "# Load Data"
   ]
  },
  {
   "cell_type": "code",
   "execution_count": 4,
   "metadata": {},
   "outputs": [],
   "source": [
    "from modelio import findPatternExt, loadJoblib\n",
    "def loadDataPattern(name, outdir, dataSuffix, extra = None):\n",
    "    basedir = '/home/tgadf/astro_research_data/pol_futuremiles_xgboost/train_test_files'\n",
    "    pattern = pattern=\"_\".join([name,dataSuffix])\n",
    "    pattern = name\n",
    "    files = findPatternExt(outdir, pattern=pattern, ext=\"p\", debug=False)\n",
    "    trainData = None\n",
    "    for i,ifile in enumerate(files):\n",
    "        print(\"Loading {0}/{1}: {2}\".format(i+1,len(files),ifile), end='    ')\n",
    "        if trainData is None:\n",
    "            trainData = loadJoblib(ifile)\n",
    "        else:\n",
    "            trainData = trainData.append(loadJoblib(ifile))\n",
    "        print(trainData.shape)\n",
    "    return trainData"
   ]
  },
  {
   "cell_type": "code",
   "execution_count": 6,
   "metadata": {},
   "outputs": [
    {
     "name": "stdout",
     "output_type": "stream",
     "text": [
      "Current Time is Thu Apr 05, 2018 09:40:06 for Getting Rolling Data\n",
      "Loading 1/6: /home/tgadf/astro_research_data/futuremiles/sparkData/rolling_newwindows_annedev_1_nogps-2017-04-02.p    (396000, 257)\n",
      "Loading 2/6: /home/tgadf/astro_research_data/futuremiles/sparkData/rolling_newwindows_annedev_5_nogps-2017-04-02.p    (792000, 257)\n",
      "Loading 3/6: /home/tgadf/astro_research_data/futuremiles/sparkData/rolling_newwindows_annedev_2_nogps-2017-04-02.p    (1188000, 257)\n",
      "Loading 4/6: /home/tgadf/astro_research_data/futuremiles/sparkData/rolling_newwindows_annedev_3_nogps-2017-04-02.p    (1584000, 257)\n",
      "Loading 5/6: /home/tgadf/astro_research_data/futuremiles/sparkData/rolling_newwindows_annedev_4_nogps-2017-04-02.p    (1980000, 257)\n",
      "Loading 6/6: /home/tgadf/astro_research_data/futuremiles/sparkData/rolling_newwindows_annedev_6_nogps-2017-04-02.p    (2376000, 257)\n",
      "Current Time is Thu Apr 05, 2018 09:41:49 for Loaded Rolling Data\n",
      "Process [Loaded Rolling Data] took 1.7 minutes.\n",
      "Current Time is Thu Apr 05, 2018 09:41:49 for Formatting DataFrame\n",
      "Current Time is Thu Apr 05, 2018 09:42:07 for Formatting DataFrame\n",
      "Process [Formatting DataFrame] took 17.0 seconds.\n"
     ]
    }
   ],
   "source": [
    "if useAnne:\n",
    "\n",
    "    # If we need to reload the .csv\n",
    "    start = clock(\"Getting Anne Data\")\n",
    "    data  = LoadOriginalData(pattern=\"_27_nogps\", extra=extra, dropcols=False, fillna=True, savedata=False)\n",
    "    elapsed(start, comment=\"Loaded Anne Data\")\n",
    "    splitKey = 'dev_imei'\n",
    "    dropColumns(data, ['Unnamed: 0', 'this_date_min_1hr_segment'])\n",
    "    data['date'] = to_datetime(data['date'])\n",
    "    data.index = data['date']\n",
    "    data = cutDataFrameByDate(data, mindate='2017-04-01')\n",
    "    fillNAWithZero(data)\n",
    "    dropColumns(data, 'date')\n",
    "    elapsed(start, comment=\"Formatting DataFrame\")    \n",
    "else:\n",
    "    start = clock(\"Getting Rolling Data\")\n",
    "    data  = loadDataPattern(name=dataname, outdir=inputdatadir, dataSuffix=dataSuffix, extra=None)\n",
    "    elapsed(start, comment=\"Loaded Rolling Data\")\n",
    "    splitKey = 'dev_imei'\n",
    "\n",
    "    start = clock(\"Formatting DataFrame\")\n",
    "    data['date'] = to_datetime(data['date'])\n",
    "    data.index = data['date']\n",
    "    #data = cutDataFrameByDate(data, mindate='2017-04-01')\n",
    "    fillNAWithZero(data)\n",
    "    dropColumns(data, ['date'])\n",
    "    elapsed(start, comment=\"Formatting DataFrame\")"
   ]
  },
  {
   "cell_type": "code",
   "execution_count": 7,
   "metadata": {},
   "outputs": [],
   "source": [
    "\n",
    "def splitDataByKey(pddata, key, targetcol, trainFraction=0.25):\n",
    "    \"\"\"\n",
    "    Split the data into test and train data\n",
    "    \n",
    "    Inputs:\n",
    "      > pddata: the model feature data (DataFrame)\n",
    "      > key: a key to split the train/test data on\n",
    "      > targetcol: the name of the target column\n",
    "      > trainFraction (0.25 by default): fraction of events to use for training\n",
    "      \n",
    "    Outputs:\n",
    "      > Training feature data (DataFrame), Testing feature data (DataFrame), Training target data (Series), Testing target data (Series)\n",
    "    \"\"\"\n",
    "    keydata = [str(x) for x in list(pddata[key].unique())]\n",
    "    print(\"There are {0} unique keys.\".format(len(keydata)))\n",
    "    print(\"Using {0} training fraction.\".format(trainFraction))\n",
    "    from random import sample\n",
    "    from numpy import asarray\n",
    "    trainKeys = list(sample(keydata, int(trainFraction*len(keydata))))\n",
    "    testKeys = [e for e in keydata if e not in trainKeys]\n",
    "    \n",
    "    if len(set(trainKeys).intersection(testKeys)) > 0:\n",
    "        print(\"There are common keys in train/test!!\")\n",
    "        return None\n",
    "    \n",
    "    trainKeys = asarray(trainKeys)\n",
    "    testKeys  = asarray(testKeys)\n",
    "    print(\"There are {0} keys in the training data.\".format(trainKeys.shape[0]))\n",
    "    print(\"There are {0} keys in the testing data.\".format(testKeys.shape[0]))\n",
    "        \n",
    "    trainData = pddata[pddata[key].isin(trainKeys)].copy()\n",
    "    testData  = pddata[pddata[key].isin(testKeys)].copy()\n",
    "    \n",
    "    return trainData"
   ]
  },
  {
   "cell_type": "code",
   "execution_count": 22,
   "metadata": {},
   "outputs": [
    {
     "name": "stdout",
     "output_type": "stream",
     "text": [
      "There are 6000 unique keys.\n",
      "Using 0.25 training fraction.\n",
      "There are 1500 keys in the training data.\n",
      "There are 4500 keys in the testing data.\n"
     ]
    }
   ],
   "source": [
    "trainData = splitDataByKey(data, key=splitKey, targetcol=targetcol, trainFraction=0.25)\n",
    "trainData = cutDataFrameByDate(trainData, maxdate='2017-12-31')\n"
   ]
  },
  {
   "cell_type": "code",
   "execution_count": 34,
   "metadata": {},
   "outputs": [
    {
     "data": {
      "text/plain": [
       "date\n",
       "2017-01-02     5.4\n",
       "2017-01-09     0.0\n",
       "2017-01-16     0.0\n",
       "2017-01-23    14.2\n",
       "2017-01-30    15.3\n",
       "2017-02-06     1.8\n",
       "2017-02-13    14.1\n",
       "2017-02-20     0.0\n",
       "2017-02-27     7.6\n",
       "2017-03-06     5.5\n",
       "2017-03-13    17.1\n",
       "2017-03-20    14.2\n",
       "2017-03-27     7.6\n",
       "2017-04-03     1.6\n",
       "2017-04-10    16.1\n",
       "2017-04-17    20.6\n",
       "2017-04-24    14.3\n",
       "2017-05-01    18.5\n",
       "2017-05-08     0.0\n",
       "2017-05-15    14.2\n",
       "2017-05-22    15.3\n",
       "2017-05-29     1.4\n",
       "2017-06-05    17.2\n",
       "2017-06-12    14.2\n",
       "2017-06-19    14.3\n",
       "2017-06-26    20.5\n",
       "2017-07-03    16.8\n",
       "2017-07-10    14.1\n",
       "2017-07-17    27.1\n",
       "2017-07-24    14.4\n",
       "              ... \n",
       "2017-06-11     6.4\n",
       "2017-06-18    10.3\n",
       "2017-06-25     0.0\n",
       "2017-07-02     0.0\n",
       "2017-07-09    11.1\n",
       "2017-07-16     1.4\n",
       "2017-07-23     0.0\n",
       "2017-07-30     1.4\n",
       "2017-08-06     0.0\n",
       "2017-08-13    36.1\n",
       "2017-08-20     7.1\n",
       "2017-08-27    30.2\n",
       "2017-09-03     4.1\n",
       "2017-09-10    35.1\n",
       "2017-09-17    27.9\n",
       "2017-09-24     4.0\n",
       "2017-10-01     4.0\n",
       "2017-10-08     0.0\n",
       "2017-10-15     5.5\n",
       "2017-10-22     4.0\n",
       "2017-10-29    98.6\n",
       "2017-11-05     4.3\n",
       "2017-11-12     4.0\n",
       "2017-11-19     1.4\n",
       "2017-11-26     0.0\n",
       "2017-12-03     4.2\n",
       "2017-12-10     7.3\n",
       "2017-12-17     4.5\n",
       "2017-12-24    28.0\n",
       "2017-12-31     4.7\n",
       "Name: target, Length: 365, dtype: float64"
      ]
     },
     "execution_count": 34,
     "metadata": {},
     "output_type": "execute_result"
    }
   ],
   "source": [
    "testTarget1 = trainData[trainData['dev_imei'] == '352252067000753']['target']\n",
    "testTarget2 = trainData[trainData['dev_imei'] == '354235052996687']['target']\n",
    "testTarget2"
   ]
  },
  {
   "cell_type": "code",
   "execution_count": 41,
   "metadata": {},
   "outputs": [
    {
     "data": {
      "image/png": "[encoded data removed]",
      "text/plain": [
       "<matplotlib.figure.Figure at 0x7f86f4fcd940>"
      ]
     },
     "metadata": {},
     "output_type": "display_data"
    }
   ],
   "source": [
    "def plotHoliday(ax):\n",
    "    from numpy import ndarray\n",
    "    breaks = getBreaks()\n",
    "    holidays = getHolidays()\n",
    "    \n",
    "    for holiday in breaks:\n",
    "        if isinstance(ax,list):\n",
    "            for i in range(len(ax)):\n",
    "                ax[i].axvspan(holiday[0], holiday[1], alpha=0.15, color='navy')\n",
    "        elif isinstance(ax,ndarray):\n",
    "            if ax.ndim == 1:\n",
    "                for i in range(len(ax)):\n",
    "                    ax[i].axvspan(holiday[0], holiday[1], alpha=0.15, color='navy')\n",
    "            if ax.ndim == 2:\n",
    "                for i in range(len(ax)):\n",
    "                    for j in range(len(ax[i])):\n",
    "                        ax[i,j].axvspan(holiday[0], holiday[1], alpha=0.15, color='navy')\n",
    "        else:\n",
    "            ax.axvspan(holiday[0], holiday[1], alpha=0.15, color='navy')    \n",
    "            \n",
    "    for holiday in holidays:\n",
    "        if isinstance(ax,list):\n",
    "            for i in range(len(ax)):\n",
    "                ax[i].axvspan(holiday[0], holiday[1], alpha=0.15, color='black')\n",
    "        elif isinstance(ax,ndarray):\n",
    "            if ax.ndim == 1:\n",
    "                for i in range(len(ax)):\n",
    "                    ax[i].axvspan(holiday[0], holiday[1], alpha=0.15, color='black')\n",
    "            if ax.ndim == 2:\n",
    "                for i in range(len(ax)):\n",
    "                    for j in range(len(ax[i])):\n",
    "                        ax[i,j].axvspan(holiday[0], holiday[1], alpha=0.15, color='black')\n",
    "        else:\n",
    "            ax.axvspan(holiday[0], holiday[1], alpha=0.15, color='black')\n",
    "\n",
    "import seaborn as sns\n",
    "from matplotlib import pyplot as plt\n",
    "cols = sns.color_palette(\"Set2\", 5)\n",
    "sns.set(style=\"ticks\")\n",
    "fig, axes = plt.subplots(nrows=2, ncols=1, figsize=(16,8), sharex=True)\n",
    "testTarget1.plot(color=cols[3], label='Series', ax=axes[0])\n",
    "axes[0].set_xlabel('Date')\n",
    "axes[0].set_title('Daily Miles Driven [Single Device]')\n",
    "testTarget2.plot(color=cols[4], label='Series', ax=axes[1])\n",
    "axes[1].set_xlabel('Date')\n",
    "axes[1].set_title('Daily Miles Driven [Single Device]')\n",
    "\n",
    "from tsUtils import getBreaks, getHolidays\n",
    "plotHoliday(axes)"
   ]
  },
  {
   "cell_type": "code",
   "execution_count": 5,
   "metadata": {},
   "outputs": [],
   "source": [
    "if useAnne:\n",
    "    devs = data['dev_imei'].unique().tolist()\n",
    "    import json\n",
    "    json.dump(devs, open(\"annedevs.json\", \"w\"))"
   ]
  },
  {
   "cell_type": "markdown",
   "metadata": {},
   "source": [
    "# Split Features and Target and Test/Train"
   ]
  },
  {
   "cell_type": "code",
   "execution_count": 35,
   "metadata": {},
   "outputs": [
    {
     "name": "stdout",
     "output_type": "stream",
     "text": [
      "Current Time is Tue Apr 03, 2018 14:04:40 for Creating Test/Train Datasets Using SplitKey dev_imei\n",
      "There are 6000 unique keys.\n",
      "Using 0.25 training fraction.\n",
      "There are 1500 keys in the training data.\n",
      "There are 4500 keys in the testing data.\n",
      "Train data has size (459000, 255) with target size (459000,).\n",
      "Test data has size (1377000, 255) with target size (1377000,).\n",
      "Saving testDataX data to /home/tgadf/astro_research_data/futuremiles/modelData/testDataX-20180402-newfeatures_newwindows_annedev.p\n",
      "  --> This file is 969.7MB.\n",
      "Saving testDataY data to /home/tgadf/astro_research_data/futuremiles/modelData/testDataY-20180402-newfeatures_newwindows_annedev.p\n",
      "  --> This file is 5.3MB.\n",
      "Saving trainDataX data to /home/tgadf/astro_research_data/futuremiles/modelData/trainDataX-20180402-newfeatures_newwindows_annedev.p\n",
      "  --> This file is 328.0MB.\n",
      "Saving trainDataY data to /home/tgadf/astro_research_data/futuremiles/modelData/trainDataY-20180402-newfeatures_newwindows_annedev.p\n",
      "  --> This file is 1.8MB.\n",
      "Saving transformers data to /home/tgadf/astro_research_data/futuremiles/modelData/transformers-20180402-newfeatures_newwindows_annedev.p\n",
      "  --> This file is 30B.\n",
      "Saving features data to /home/tgadf/astro_research_data/futuremiles/modelData/features-20180402-newfeatures_newwindows_annedev.p\n",
      "  --> This file is 2.2kB.\n",
      "Current Time is Tue Apr 03, 2018 14:07:01 for Created Test/Train Datasets\n",
      "Process [Created Test/Train Datasets] took 2.4 minutes.\n"
     ]
    }
   ],
   "source": [
    "start = clock(\"Creating Test/Train Datasets Using SplitKey {0}\".format(splitKey))\n",
    "\n",
    "if splitKey is not None:\n",
    "    ## If we're splitting on a key\n",
    "    X_train, X_test, y_train, y_test = splitDataByKey(data, key=splitKey, targetcol=targetcol, trainFraction=0.25)\n",
    "    featureNames = X_train.columns\n",
    "    transformers={\"X\": None, \"y\": None}\n",
    "else:\n",
    "    ## If we're randomly splitting\n",
    "    features, target = splitFeaturesTarget(data, targetcol)\n",
    "\n",
    "    ## Transform (if needed)\n",
    "    retval   = transformData(extra, features, target)\n",
    "    features = retval['X_data']\n",
    "    target   = retval['y_data']\n",
    "    X_scaler = retval['X_scaler']\n",
    "    y_scaler = retval['y_scaler']\n",
    "\n",
    "    ## Split test/train\n",
    "    print(\"Spliting test and train data\")\n",
    "    X_train, X_test, y_train, y_test = splitData(features, target, trainFraction=0.33)\n",
    "    featureNames = X_train.columns\n",
    "    transformers={\"X\": X_scaler, \"y\": y_scaler}\n",
    "    \n",
    "## Save everything\n",
    "data = {\"testDataX\": X_test, \"testDataY\": y_test, \"trainDataX\": X_train, \"trainDataY\": y_train, \n",
    "        \"transformers\": transformers, \"features\": featureNames}\n",
    "for name,value in data.items():\n",
    "    saveData(value, name=name, outdir=outdatadir, dataSuffix=dataSuffix, extra=extra)\n",
    "\n",
    "elapsed(start, comment=\"Created Test/Train Datasets\")"
   ]
  },
  {
   "cell_type": "code",
   "execution_count": 6,
   "metadata": {},
   "outputs": [
    {
     "data": {
      "text/plain": [
       "Index(['weekday', 'holiday', 'notrips_lag1days', 'trips_avg_lag1days',\n",
       "       'trips_am_avg_lag1days', 'trips_pm_avg_lag1days',\n",
       "       'trips_early_avg_lag1days', 'trips_late_avg_lag1days',\n",
       "       'trips_asym_avg_lag1days', 'miles_sum_avg_lag1days',\n",
       "       ...\n",
       "       'duration_high_ratio_avg_lag10days_dow',\n",
       "       'duration_high_frac_avg_lag10days_dow', 'speed_max_avg_lag10days_dow',\n",
       "       'speed_high_cnt_avg_lag10days_dow', 'speed_high_frac_avg_lag10days_dow',\n",
       "       'speed_mid_cnt_avg_lag10days_dow', 'time_away_avg_lag10days_dow',\n",
       "       'time_firsttrip_avg_lag10days_dow', 'time_lasttrip_avg_lag10days_dow',\n",
       "       'accel_sum_avg_lag10days_dow'],\n",
       "      dtype='object', length=263)"
      ]
     },
     "execution_count": 6,
     "metadata": {},
     "output_type": "execute_result"
    }
   ],
   "source": [
    "featureNames"
   ]
  },
  {
   "cell_type": "code",
   "execution_count": 36,
   "metadata": {},
   "outputs": [],
   "source": [
    "## Init Models\n",
    "models = {}"
   ]
  },
  {
   "cell_type": "code",
   "execution_count": 12,
   "metadata": {},
   "outputs": [],
   "source": [
    "def trainXGBoost(name, X_train, y_train):\n",
    "    name = 'xgboost'\n",
    "    start = clock(\"Training {0}\".format(name))\n",
    "    xgb = xgboost.XGBRegressor(n_jobs=2)\n",
    "    config = {'njobs': 2, 'grid': {'min_child_weight': [500], 'max_depth': [8], 'learning_rate': [0.1], 'gamma': [0.3]}}\n",
    "\n",
    "    tune = True\n",
    "    if tune is True:\n",
    "        tuneResults = tuneEstimator(name, xgb, X_train, y_train, config, debug=True)\n",
    "        model = tuneResults['estimator']\n",
    "    else:\n",
    "        params = {'min_child_weight': 500, 'max_depth': 10, 'learning_rate': 0.1, 'gamma': 0.3}\n",
    "        xgb.set_params(**params)\n",
    "        model = trainEstimator(name, xgb, X_train, y_train)    \n",
    "    elapsed(start, comment=\"Trained {0}\".format(name))\n",
    "    return model"
   ]
  },
  {
   "cell_type": "code",
   "execution_count": 13,
   "metadata": {},
   "outputs": [],
   "source": [
    "def trainLinReg(name, X_train, y_train):\n",
    "    name = 'linreg'\n",
    "    start = clock(\"Training {0}\".format(name))\n",
    "    glm = LinearRegression()\n",
    "    model = trainEstimator(name, glm, X_train, y_train)\n",
    "    elapsed(start, comment=\"Trained {0}\".format(name))\n",
    "    return model"
   ]
  },
  {
   "cell_type": "markdown",
   "metadata": {},
   "source": [
    "# Train xgboost"
   ]
  },
  {
   "cell_type": "code",
   "execution_count": 37,
   "metadata": {},
   "outputs": [
    {
     "name": "stdout",
     "output_type": "stream",
     "text": [
      "Current Time is Tue Apr 03, 2018 14:09:11 for Training linreg\n",
      "Current Time is Tue Apr 03, 2018 14:09:19 for Trained linreg\n",
      "Process [Trained linreg] took 7.0 seconds.\n"
     ]
    }
   ],
   "source": [
    "models={}\n",
    "models['linreg'] = trainLinReg(\"linreg\", X_train, y_train)"
   ]
  },
  {
   "cell_type": "code",
   "execution_count": 27,
   "metadata": {},
   "outputs": [
    {
     "name": "stdout",
     "output_type": "stream",
     "text": [
      "Current Time is Mon Apr 02, 2018 10:31:45 for Training linreg\n",
      "Current Time is Mon Apr 02, 2018 10:32:16 for Trained linreg\n",
      "Process [Trained linreg] took 30.0 seconds.\n"
     ]
    }
   ],
   "source": [
    "models={}\n",
    "models['linreg_10k_50'] = trainLinReg(\"linreg_anne\", X_train, y_train)"
   ]
  },
  {
   "cell_type": "code",
   "execution_count": null,
   "metadata": {},
   "outputs": [],
   "source": [
    "models['xgboost'] = trainXGBoost(\"xgboost\", X_train, y_train)"
   ]
  },
  {
   "cell_type": "code",
   "execution_count": null,
   "metadata": {},
   "outputs": [],
   "source": [
    "models['xgboost_meold'] = trainXGBoost(\"xgboost_meold\", X_train, y_train)"
   ]
  },
  {
   "cell_type": "code",
   "execution_count": 26,
   "metadata": {},
   "outputs": [
    {
     "name": "stdout",
     "output_type": "stream",
     "text": [
      "Current Time is Mon Apr 02, 2018 11:37:58 for Training xgboost\n",
      "Tuning a xgboost estimator\n",
      "Running random parameter search\n",
      "Fitting 2 folds for each of 1 candidates, totalling 2 fits\n"
     ]
    },
    {
     "name": "stderr",
     "output_type": "stream",
     "text": [
      "[Parallel(n_jobs=2)]: Done   2 out of   2 | elapsed:  4.1min remaining:    0.0s\n",
      "[Parallel(n_jobs=2)]: Done   2 out of   2 | elapsed:  4.1min finished\n"
     ]
    },
    {
     "name": "stdout",
     "output_type": "stream",
     "text": [
      "Tested 1 Parameter Sets\n",
      "CV Fit Time Info (Mean,Std): (235.0 , 0.0)\n",
      "Best Score                 : 0.185\n",
      "Worst Score                : 0.185\n",
      "CV Test Scores (Mean,Std)  : (0.2 , 0.0)\n",
      "Best Parameters\n",
      "Param: min_child_weight = 500\n",
      "Param: max_depth = 8\n",
      "Param: learning_rate = 0.1\n",
      "Param: gamma = 0.3\n",
      "Current Time is Mon Apr 02, 2018 11:50:55 for Trained xgboost\n",
      "Process [Trained xgboost] took 12.9 minutes.\n"
     ]
    }
   ],
   "source": [
    "models['xgboost_10k_10'] = trainXGBoost(\"xgboost_10k\", X_train, y_train)"
   ]
  },
  {
   "cell_type": "code",
   "execution_count": 11,
   "metadata": {},
   "outputs": [
    {
     "name": "stdout",
     "output_type": "stream",
     "text": [
      "Current Time is Sun Apr 01, 2018 16:44:32 for Training xgboost_me\n",
      "Tuning a xgboost_me estimator\n",
      "Running random parameter search\n",
      "Fitting 2 folds for each of 9 candidates, totalling 18 fits\n"
     ]
    },
    {
     "name": "stderr",
     "output_type": "stream",
     "text": [
      "[Parallel(n_jobs=3)]: Done  18 out of  18 | elapsed: 40.7min finished\n"
     ]
    },
    {
     "name": "stdout",
     "output_type": "stream",
     "text": [
      "Tested 9 Parameter Sets\n",
      "CV Fit Time Info (Mean,Std): (394.4 , 173.3)\n",
      "Best Score                 : 0.329\n",
      "Worst Score                : 0.324\n",
      "CV Test Scores (Mean,Std)  : (0.3 , 0.0)\n",
      "Best Parameters\n",
      "Param: min_child_weight = 500\n",
      "Param: max_depth = 6\n",
      "Param: learning_rate = 0.1\n",
      "Param: gamma = 0.3\n",
      "Current Time is Sun Apr 01, 2018 17:37:54 for Trained xgboost_me\n",
      "Process [Trained xgboost_me] took 53.4 minutes.\n"
     ]
    }
   ],
   "source": [
    "name = 'xgboost_me'\n",
    "start = clock(\"Training {0}\".format(name))\n",
    "xgb = xgboost.XGBRegressor(n_jobs=2)\n",
    "config = {'njobs': 6, 'grid': {'min_child_weight': [100, 500], 'max_depth': [3, 6, 10], 'learning_rate': [0.1], 'gamma': [0.3]}}\n",
    "\n",
    "tune = True\n",
    "if tune is True:\n",
    "    best = tuneEstimator(name, xgb, X_train, y_train, config, debug=True)\n",
    "    models[name] = best['estimator']\n",
    "else:\n",
    "    xgb.set_params(**params)\n",
    "    models[name] = trainEstimator(name, xgb, X_train, y_train)\n",
    "elapsed(start, comment=\"Trained {0}\".format(name))"
   ]
  },
  {
   "cell_type": "code",
   "execution_count": 25,
   "metadata": {},
   "outputs": [
    {
     "name": "stdout",
     "output_type": "stream",
     "text": [
      "Current Time is Sun Apr 01, 2018 17:45:02 for Training xgboost_anne\n",
      "Tuning a xgboost_anne estimator\n",
      "Running random parameter search\n",
      "Fitting 2 folds for each of 9 candidates, totalling 18 fits\n"
     ]
    },
    {
     "name": "stderr",
     "output_type": "stream",
     "text": [
      "[Parallel(n_jobs=6)]: Done  18 out of  18 | elapsed:  4.7min finished\n"
     ]
    },
    {
     "name": "stdout",
     "output_type": "stream",
     "text": [
      "Tested 9 Parameter Sets\n",
      "CV Fit Time Info (Mean,Std): (85.4 , 38.6)\n",
      "Best Score                 : 0.218\n",
      "Worst Score                : 0.211\n",
      "CV Test Scores (Mean,Std)  : (0.2 , 0.0)\n",
      "Best Parameters\n",
      "Param: min_child_weight = 500\n",
      "Param: max_depth = 10\n",
      "Param: learning_rate = 0.1\n",
      "Param: gamma = 0.3\n",
      "Current Time is Sun Apr 01, 2018 17:53:47 for Trained xgboost_anne\n",
      "Process [Trained xgboost_anne] took 8.7 minutes.\n"
     ]
    }
   ],
   "source": [
    "name = 'xgboost_anne'\n",
    "start = clock(\"Training {0}\".format(name))\n",
    "xgb = xgboost.XGBRegressor(n_jobs=2)\n",
    "config = {'njobs': 6, 'grid': {'min_child_weight': [50, 100, 500], 'max_depth': [3, 6, 10], 'learning_rate': [0.1], 'gamma': [0.3]}}\n",
    "\n",
    "best = tuneEstimator(name, xgb, X_train, y_train, config, debug=True)\n",
    "#xgb.set_params(**params)\n",
    "#models[name] = trainEstimator(name, xgb, X_train, y_train)\n",
    "#print(type(xgb))\n",
    "models[name] = best['estimator']\n",
    "elapsed(start, comment=\"Trained {0}\".format(name))"
   ]
  },
  {
   "cell_type": "markdown",
   "metadata": {},
   "source": [
    "# Train linear regression"
   ]
  },
  {
   "cell_type": "code",
   "execution_count": 26,
   "metadata": {},
   "outputs": [
    {
     "name": "stdout",
     "output_type": "stream",
     "text": [
      "Current Time is Sun Apr 01, 2018 17:53:47 for Training linreg_anne\n",
      "Current Time is Sun Apr 01, 2018 17:53:49 for Trained linreg_anne\n",
      "Process [Trained linreg_anne] took 1.0 seconds.\n"
     ]
    }
   ],
   "source": []
  },
  {
   "cell_type": "code",
   "execution_count": 27,
   "metadata": {},
   "outputs": [],
   "source": [
    "del models['linreg_me']\n",
    "del models['xgboost_me']"
   ]
  },
  {
   "cell_type": "markdown",
   "metadata": {},
   "source": [
    "# Save Model"
   ]
  },
  {
   "cell_type": "code",
   "execution_count": 38,
   "metadata": {
    "scrolled": true
   },
   "outputs": [
    {
     "name": "stdout",
     "output_type": "stream",
     "text": [
      "Current Time is Tue Apr 03, 2018 14:10:29 for Saving Models\n",
      "Saving linreg model to /home/tgadf/astro_research_data/futuremiles/modelData/linreg-20180402-20180402-newfeatures_newwindows_annedev.p\n",
      "  --> This file is 4.4kB.\n",
      "Current Time is Tue Apr 03, 2018 14:10:29 for Saved Models\n",
      "Process [Saved Models] took 0.0 seconds.\n"
     ]
    }
   ],
   "source": [
    "start = clock(comment=\"Saving Models\")\n",
    "\n",
    "for k,v in models.items():\n",
    "    saveModel(estimator=v, name=k, outdir=outdatadir, dataSuffix=dataSuffix, timeSuffix=timeSuffix, extra=extra)\n",
    "\n",
    "elapsed(start, comment=\"Saved Models\")"
   ]
  },
  {
   "cell_type": "markdown",
   "metadata": {},
   "source": [
    "# Predict Model"
   ]
  },
  {
   "cell_type": "code",
   "execution_count": 39,
   "metadata": {},
   "outputs": [
    {
     "name": "stdout",
     "output_type": "stream",
     "text": [
      "Current Time is Tue Apr 03, 2018 14:10:29 for Predict Model Response\n",
      "  Predicting linreg\n",
      "Saving linreg predict data to /home/tgadf/astro_research_data/futuremiles/modelData/linreg-predict-20180402-20180402-newfeatures_newwindows_annedev.p\n",
      "  --> This file is 18.3MB.\n",
      "Current Time is Tue Apr 03, 2018 14:10:33 for Predicted Model Response\n",
      "Process [Predicted Model Response] took 4.0 seconds.\n"
     ]
    }
   ],
   "source": [
    "start = clock(comment=\"Predict Model Response\")\n",
    "\n",
    "train = {}\n",
    "test  = {}\n",
    "for name,estimator in models.items():\n",
    "    print(\"  Predicting {0}\".format(name))\n",
    "    \n",
    "    prediction = predictEstimator(name, estimator, X_test, y_test)\n",
    "    savePredictData(prediction, name=name, outdir=scoredatadir, dataSuffix=dataSuffix, timeSuffix=timeSuffix, extra=extra)\n",
    "\n",
    "elapsed(start, comment=\"Predicted Model Response\")"
   ]
  },
  {
   "cell_type": "code",
   "execution_count": 31,
   "metadata": {},
   "outputs": [],
   "source": [
    "models['xgboost_10k_10'] = models['xgboost_10k_10']['estimator']"
   ]
  },
  {
   "cell_type": "code",
   "execution_count": null,
   "metadata": {},
   "outputs": [],
   "source": []
  }
 ],
 "metadata": {
  "kernelspec": {
   "display_name": "Python 3",
   "language": "python",
   "name": "python3"
  },
  "language_info": {
   "codemirror_mode": {
    "name": "ipython",
    "version": 3
   },
   "file_extension": ".py",
   "mimetype": "text/x-python",
   "name": "python",
   "nbconvert_exporter": "python",
   "pygments_lexer": "ipython3",
   "version": "3.6.6"
  }
 },
 "nbformat": 4,
 "nbformat_minor": 2
}
