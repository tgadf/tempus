{
 "cells": [
  {
   "cell_type": "markdown",
   "metadata": {},
   "source": [
    "# Tempus Data Science Case Study"
   ]
  },
  {
   "cell_type": "markdown",
   "metadata": {},
   "source": [
    "The goal of this project is to build a predictive model on the Tempus Data Science case study dataset. The data provided contains containing 16,562 features and a single response variable. This is a typical binary classification problem with the goal of creating a function, or model, that can distinguish data taken from the positive (i.e., 1) response set and data taken from the negative (i.e., 0) response set.\n",
    "\n",
    "The scikit-learn Python framework and the Pandas library are employed to ingest the dataset, build the classification model, and show the model performance. The data is processed and transformed in the Model Inputs section. Three binary classifiers are constructed in the Model Building section, and finally, the performance of the three models is explained in the Model Performance section."
   ]
  },
  {
   "cell_type": "code",
   "execution_count": 97,
   "metadata": {},
   "outputs": [
    {
     "name": "stdout",
     "output_type": "stream",
     "text": [
      "Notebook Last Run Initiated: 2019-01-30 13:38:16.924013\n"
     ]
    }
   ],
   "source": [
    "import datetime as dt\n",
    "start = dt.datetime.now()\n",
    "print(\"Notebook Last Run Initiated: \"+str(start))"
   ]
  },
  {
   "cell_type": "markdown",
   "metadata": {},
   "source": [
    "## Standard Python Modules"
   ]
  },
  {
   "cell_type": "code",
   "execution_count": 94,
   "metadata": {},
   "outputs": [
    {
     "name": "stdout",
     "output_type": "stream",
     "text": [
      "3.6.6 |Anaconda custom (64-bit)| (default, Jun 28 2018, 11:07:29) \n",
      "[GCC 4.2.1 Compatible Clang 4.0.1 (tags/RELEASE_401/final)]\n"
     ]
    }
   ],
   "source": [
    "from numpy import reshape\n",
    "from pandas import DataFrame, Series, to_datetime\n",
    "import xgboost\n",
    "from sklearn.model_selection import train_test_split\n",
    "from sklearn import metrics\n",
    "from sklearn.metrics import precision_recall_curve\n",
    "from sklearn.metrics import roc_curve\n",
    "from sklearn.metrics import confusion_matrix\n",
    "from sklearn.metrics import roc_auc_score    \n",
    "from sklearn.feature_selection import SelectFromModel\n",
    "from transform import transformData\n",
    "\n",
    "import sys\n",
    "print(sys.version)"
   ]
  },
  {
   "cell_type": "markdown",
   "metadata": {},
   "source": [
    "# Model Inputs"
   ]
  },
  {
   "cell_type": "code",
   "execution_count": 98,
   "metadata": {},
   "outputs": [
    {
     "data": {
      "text/plain": [
       "(530, 16563)"
      ]
     },
     "execution_count": 98,
     "metadata": {},
     "output_type": "execute_result"
    }
   ],
   "source": [
    "from pandas import read_csv\n",
    "data = read_csv(\"data.txt\", delimiter='\\t')\n",
    "data.shape"
   ]
  },
  {
   "cell_type": "code",
   "execution_count": 99,
   "metadata": {},
   "outputs": [
    {
     "data": {
      "text/plain": [
       "Index(['response', 'V1', 'V2', 'V3', 'V4', 'V5', 'V6', 'V7', 'V8', 'V9',\n",
       "       ...\n",
       "       'V16553', 'V16554', 'V16555', 'V16556', 'V16557', 'V16558', 'V16559',\n",
       "       'V16560', 'V16561', 'V16562'],\n",
       "      dtype='object', length=16563)"
      ]
     },
     "execution_count": 99,
     "metadata": {},
     "output_type": "execute_result"
    }
   ],
   "source": [
    "data.columns"
   ]
  },
  {
   "cell_type": "code",
   "execution_count": 100,
   "metadata": {},
   "outputs": [],
   "source": [
    "y = data['response']  ## y is the response data also known as the target variable\n",
    "X = data.drop('response', axis=1)  ## X is the predictor data also known collectively as the feature dataset"
   ]
  },
  {
   "cell_type": "markdown",
   "metadata": {},
   "source": [
    "Due to the overwhemingly large number of columns it is import to remove features (i.e., columns) with little variance or little correlation with the target. Keeping these columns could easily lead to overfitting. If there were more rows this requirement could be loosened."
   ]
  },
  {
   "cell_type": "code",
   "execution_count": 101,
   "metadata": {},
   "outputs": [
    {
     "name": "stdout",
     "output_type": "stream",
     "text": [
      "There are correctly 16562 columns in the data\n",
      "There are now 2055 columns in the data\n"
     ]
    }
   ],
   "source": [
    "from sklearn.feature_selection import VarianceThreshold\n",
    "sel = VarianceThreshold(threshold=0.1)\n",
    "print(\"There are correctly {0} columns in the data\".format(X.shape[1]))\n",
    "X = sel.fit_transform(X)\n",
    "print(\"There are now {0} columns in the data\".format(X.shape[1]))"
   ]
  },
  {
   "cell_type": "markdown",
   "metadata": {},
   "source": [
    "The scikit-learn train/test split function is employed to randomly create mutually exclusive training and testing datasets. If this step were not run it would lead to \"leakage\" and result in an overestimation of the actual model performance."
   ]
  },
  {
   "cell_type": "code",
   "execution_count": 102,
   "metadata": {},
   "outputs": [],
   "source": [
    "X_train, X_test, y_train, y_test = train_test_split(X, y, test_size=0.33, random_state=42)"
   ]
  },
  {
   "cell_type": "markdown",
   "metadata": {},
   "source": [
    "# Model Building"
   ]
  },
  {
   "cell_type": "markdown",
   "metadata": {},
   "source": [
    "Here we create three binary classifier functions that access the underlying algorithms in the scikit-learn and xgboost libraries. The three algoritms are chosen based on previous experience using these models. The simplest and least complex model is Logistic Regression, which has no internal tunable parameters. The Random Forest model is known as an ensemble model that is constructed from a collection, or ensemble, of decision trees created using a random set of features. The third model, Xgboost, is an improved gradient boosted decision tree model this is known to perform extremely well on a wide variety of problems. "
   ]
  },
  {
   "cell_type": "code",
   "execution_count": 103,
   "metadata": {},
   "outputs": [],
   "source": [
    "def trainLogReg(X_train, y_train):\n",
    "    name = 'logreg'\n",
    "    glm = LogisticRegression()\n",
    "    model = trainEstimator(name, glm, X_train, y_train)\n",
    "    return model"
   ]
  },
  {
   "cell_type": "code",
   "execution_count": 113,
   "metadata": {},
   "outputs": [],
   "source": [
    "def trainRF(X_train, y_train):\n",
    "    name = 'rf'\n",
    "    rf = RandomForestClassifier(n_estimators=50)\n",
    "    model = trainEstimator(name, rf, X_train, y_train)\n",
    "    return model"
   ]
  },
  {
   "cell_type": "code",
   "execution_count": 114,
   "metadata": {},
   "outputs": [],
   "source": [
    "def trainXGboost(X_train, y_train):\n",
    "    name = 'xgb'\n",
    "    xgb = xgboost.XGBClassifier(n_jobs=1)\n",
    "    model = trainEstimator(name, xgb, X_train, y_train)\n",
    "    return model"
   ]
  },
  {
   "cell_type": "markdown",
   "metadata": {},
   "source": [
    "Train the models without tuning any available hyperparameters. If there were more data, tuning these parameters would likely result in improved models."
   ]
  },
  {
   "cell_type": "code",
   "execution_count": 115,
   "metadata": {},
   "outputs": [],
   "source": [
    "logreg = trainLogReg(X_train, y_train)\n",
    "rf     = trainRF(X_train, y_train)\n",
    "xgb    = trainXGboost(X_train, y_train)\n",
    "models = {\"logreg\": logreg, \"xgb\": xgb, \"rf\": rf}"
   ]
  },
  {
   "cell_type": "markdown",
   "metadata": {},
   "source": [
    "Use the trained models to predict the response on the as-yet-unseen test data. The relative difference between the predicted response and the actual test response serves as the model performance shown in the next section."
   ]
  },
  {
   "cell_type": "code",
   "execution_count": 116,
   "metadata": {},
   "outputs": [
    {
     "name": "stderr",
     "output_type": "stream",
     "text": [
      "/anaconda3/envs/py36/lib/python3.6/site-packages/sklearn/preprocessing/label.py:151: DeprecationWarning: The truth value of an empty array is ambiguous. Returning False, but in future this will result in an error. Use `array.size > 0` to check that an array is not empty.\n",
      "  if diff:\n"
     ]
    }
   ],
   "source": [
    "perfs = {}\n",
    "for modelname, model in models.items():\n",
    "    y_probs  = model.predict_proba(X_test)[:,1]\n",
    "    y_probs  = Series(data=y_probs, name=\"predicted\")\n",
    "    y_preds  = model.predict(X_test)\n",
    "    y_preds  = Series(data=y_preds, name=\"predicted\")\n",
    "    perfs[modelname] = {\"Probs\": y_probs, \"Preds\": y_preds}"
   ]
  },
  {
   "cell_type": "markdown",
   "metadata": {},
   "source": [
    "# Model Performance"
   ]
  },
  {
   "cell_type": "markdown",
   "metadata": {},
   "source": [
    "Compute the standard suite of binary classification performance metrics. The most common of these are the true-positive rate (TPR) and fake-positive rate (FPR), which respresent the fraction of events that we correctly and incorrectly assigned to the true response value. From these values, the reciever-operator curve (ROC) can be constructed to visualize the performance of the models and compare them the case of a random and perfect prediction."
   ]
  },
  {
   "cell_type": "code",
   "execution_count": 117,
   "metadata": {},
   "outputs": [],
   "source": [
    "modelperfdata = {}\n",
    "for modelname,modeldata in perfs.items():\n",
    "    retval = {}\n",
    "    y_truth = y_test\n",
    "    y_probs = modeldata['Probs']\n",
    "    y_preds = modeldata['Preds']\n",
    "    precision, recall, pr_thresholds = precision_recall_curve(y_truth, y_probs)\n",
    "    retval[\"PR\"] = {\"precision\": precision, \"recall\": recall, \"thresholds\": pr_thresholds}\n",
    "\n",
    "    fpr, tpr, roc_thresholds = roc_curve(y_truth, y_probs)\n",
    "    retval[\"ROC\"] = {\"fpr\": fpr, \"tpr\": tpr, \"thresholds\": roc_thresholds}\n",
    "\n",
    "    auc = roc_auc_score(y_truth, y_probs)\n",
    "    retval[\"AUC\"] = auc\n",
    "\n",
    "    cfm = confusion_matrix(y_truth, y_preds)\n",
    "    tn, fp, fn, tp = cfm.ravel()\n",
    "    retval[\"Confusion\"] = {\"matrix\": cfm, \"tn\": tn, \"tp\": tp, \"fn\": fn, \"fp\": fp}\n",
    "    \n",
    "    modelperfdata[modelname] = retval"
   ]
  },
  {
   "cell_type": "markdown",
   "metadata": {},
   "source": [
    "Another useful metric is the confusion matrix, which shows the number of true-positive (TP) predictions, false-negative (FN) predictions, true-negative (TN) preduction, and false-positive (FP) prediction."
   ]
  },
  {
   "cell_type": "code",
   "execution_count": 124,
   "metadata": {},
   "outputs": [
    {
     "name": "stdout",
     "output_type": "stream",
     "text": [
      "The confusion matrix for logreg is [[125   1]\n",
      " [ 29  20]]\n",
      "The confusion matrix for xgb is [[125   1]\n",
      " [ 22  27]]\n",
      "The confusion matrix for rf is [[125   1]\n",
      " [ 41   8]]\n"
     ]
    }
   ],
   "source": [
    "for modelname, perfdata in modelperfdata.items():\n",
    "    mat = perfdata[\"Confusion\"]['matrix']\n",
    "    print(\"The confusion matrix for {0} is {1}\".format(modelname, mat))"
   ]
  },
  {
   "cell_type": "markdown",
   "metadata": {},
   "source": [
    "Plot the ROC curve for each classifier and show the area-under-the-curve (AUC) for each. The AUC is the integral (area) of the ROC curve between 0 and 1. A random prediction model (e.g., coin flip) will have an AUC value of 0.5. A perfect model will have an AUC value of 1, and all other models have values between 0.5 and 1. Models with values closer to 1 are better models (i.e., predict more correct responses) than models with values closer to 0.5 (i.e., predict few correct responses)."
   ]
  },
  {
   "cell_type": "code",
   "execution_count": 119,
   "metadata": {},
   "outputs": [
    {
     "name": "stdout",
     "output_type": "stream",
     "text": [
      "The AUC for logreg is 0.82\n",
      "The AUC for xgb is 0.81\n",
      "The AUC for rf is 0.81\n"
     ]
    },
    {
     "data": {
      "text/plain": [
       "<matplotlib.legend.Legend at 0x1a2aecca20>"
      ]
     },
     "execution_count": 119,
     "metadata": {},
     "output_type": "execute_result"
    },
    {
     "data": {
      "image/png": "[encoded data removed]",
      "text/plain": [
       "<Figure size 432x288 with 1 Axes>"
      ]
     },
     "metadata": {
      "needs_background": "light"
     },
     "output_type": "display_data"
    }
   ],
   "source": [
    "perfdata = retval\n",
    "\n",
    "import matplotlib.pyplot as plt\n",
    "import seaborn as sns\n",
    "\n",
    "plt.figure()\n",
    "current_palette = sns.color_palette()\n",
    "i = 0\n",
    "for modelname, perfdata in modelperfdata.items():\n",
    "    #colors = cycle(['aqua', 'darkorange', 'cornflowerblue'])\n",
    "    auc = perfdata['AUC']\n",
    "    print(\"The AUC for {0} is {1}\".format(modelname, round(auc,2)))\n",
    "    tpr = perfdata['ROC']['tpr']\n",
    "    fpr = perfdata['ROC']['fpr']\n",
    "    plt.plot(fpr, tpr,\n",
    "             label='{0} ({1:0.2f})'\n",
    "             ''.format(modelname, auc),\n",
    "             color=current_palette[i], linestyle='-', linewidth=3)\n",
    "    i += 1\n",
    "\n",
    "title = \"Receiver Operating Characteristic\"\n",
    "value = \"ROC\"\n",
    "plt.plot([0, 1], [0, 1], 'k--', lw=2)\n",
    "plt.xlim([0.0, 1.0])\n",
    "plt.ylim([0.0, 1.05])\n",
    "plt.xlabel('False Positive Rate')\n",
    "plt.ylabel('True Positive Rate')\n",
    "plt.title('')\n",
    "plt.legend(loc=\"lower right\")\n",
    "\n"
   ]
  },
  {
   "cell_type": "markdown",
   "metadata": {},
   "source": [
    "The above plot is the ROC curve for each model. The y-axis is the true-positive (correct positive assignment) rate and x-axis is the false-positive (incorrect positve assignment) rate. Curves nearer to the top-left corner are considered good models while models whose curve lies near the dotted line are considered poor models."
   ]
  },
  {
   "cell_type": "markdown",
   "metadata": {},
   "source": [
    "# Summary"
   ]
  },
  {
   "cell_type": "markdown",
   "metadata": {},
   "source": [
    "All three binary classifiers essentially show the same performance as determined from the ROC, AUC, and confusion matrix values. The independent test dataset contained 175 rows and each classifer correclty predicted 125 of the true response values. The classifiers differed slightly in the assignment for TN, FN, and FP. Given the relatively low number of events in the testing data it is difficult to say that one classifier greatly exceeds another one. A much larger training and testing dataset would certainly help to decide which model is best. Additional data would also allow for more features in the training dataset that could improve the overall model performance."
   ]
  },
  {
   "cell_type": "markdown",
   "metadata": {},
   "source": [
    "# Additional Code"
   ]
  },
  {
   "cell_type": "code",
   "execution_count": null,
   "metadata": {},
   "outputs": [],
   "source": [
    "def splitDataByKey(pddata, key, targetcol, trainFraction=0.25):\n",
    "    \"\"\"\n",
    "    Split the data into test and train data\n",
    "    \n",
    "    Inputs:\n",
    "      > pddata: the model feature data (DataFrame)\n",
    "      > key: a key to split the train/test data on\n",
    "      > targetcol: the name of the target column\n",
    "      > trainFraction (0.25 by default): fraction of events to use for training\n",
    "      \n",
    "    Outputs:\n",
    "      > Training feature data (DataFrame), Testing feature data (DataFrame), Training target data (Series), Testing target data (Series)\n",
    "    \"\"\"\n",
    "    keydata = [str(x) for x in list(pddata[key].unique())]\n",
    "    print(\"There are {0} unique keys.\".format(len(keydata)))\n",
    "    print(\"Using {0} training fraction.\".format(trainFraction))\n",
    "    from random import sample\n",
    "    from numpy import asarray\n",
    "    trainKeys = list(sample(keydata, int(trainFraction*len(keydata))))\n",
    "    testKeys = [e for e in keydata if e not in trainKeys]\n",
    "    \n",
    "    if len(set(trainKeys).intersection(testKeys)) > 0:\n",
    "        print(\"There are common keys in train/test!!\")\n",
    "        return None\n",
    "    \n",
    "    trainKeys = asarray(trainKeys)\n",
    "    testKeys  = asarray(testKeys)\n",
    "    print(\"There are {0} keys in the training data.\".format(trainKeys.shape[0]))\n",
    "    print(\"There are {0} keys in the testing data.\".format(testKeys.shape[0]))\n",
    "        \n",
    "    trainData = pddata[pddata[key].isin(trainKeys)].copy()\n",
    "    testData  = pddata[pddata[key].isin(testKeys)].copy()\n",
    "    \n",
    "    return trainData"
   ]
  },
  {
   "cell_type": "code",
   "execution_count": null,
   "metadata": {},
   "outputs": [],
   "source": [
    "start = clock(\"Creating Test/Train Datasets Using SplitKey {0}\".format(splitKey))\n",
    "\n",
    "if splitKey is not None:\n",
    "    ## If we're splitting on a key\n",
    "    X_train, X_test, y_train, y_test = splitDataByKey(data, key=splitKey, targetcol=targetcol, trainFraction=0.25)\n",
    "    featureNames = X_train.columns\n",
    "    transformers={\"X\": None, \"y\": None}\n",
    "else:\n",
    "    ## If we're randomly splitting\n",
    "    features, target = splitFeaturesTarget(data, targetcol)\n",
    "\n",
    "    ## Transform (if needed)\n",
    "    retval   = transformData(extra, features, target)\n",
    "    features = retval['X_data']\n",
    "    target   = retval['y_data']\n",
    "    X_scaler = retval['X_scaler']\n",
    "    y_scaler = retval['y_scaler']\n",
    "\n",
    "    ## Split test/train\n",
    "    print(\"Spliting test and train data\")\n",
    "    X_train, X_test, y_train, y_test = splitData(features, target, trainFraction=0.33)\n",
    "    featureNames = X_train.columns\n",
    "    transformers={\"X\": X_scaler, \"y\": y_scaler}\n",
    "    \n",
    "## Save everything\n",
    "data = {\"testDataX\": X_test, \"testDataY\": y_test, \"trainDataX\": X_train, \"trainDataY\": y_train, \n",
    "        \"transformers\": transformers, \"features\": featureNames}\n",
    "for name,value in data.items():\n",
    "    saveData(value, name=name, outdir=outdatadir, dataSuffix=dataSuffix, extra=extra)\n",
    "\n",
    "elapsed(start, comment=\"Created Test/Train Datasets\")"
   ]
  },
  {
   "cell_type": "code",
   "execution_count": null,
   "metadata": {},
   "outputs": [],
   "source": [
    "def trainXGBoost(name, X_train, y_train):\n",
    "    name = 'xgboost'\n",
    "    start = clock(\"Training {0}\".format(name))\n",
    "    xgb = xgboost.XGBRegressor(n_jobs=2)\n",
    "    config = {'njobs': 2, 'grid': {'min_child_weight': [500], 'max_depth': [8], 'learning_rate': [0.1], 'gamma': [0.3]}}\n",
    "\n",
    "    tune = True\n",
    "    if tune is True:\n",
    "        tuneResults = tuneEstimator(name, xgb, X_train, y_train, config, debug=True)\n",
    "        model = tuneResults['estimator']\n",
    "    else:\n",
    "        params = {'min_child_weight': 500, 'max_depth': 10, 'learning_rate': 0.1, 'gamma': 0.3}\n",
    "        xgb.set_params(**params)\n",
    "        model = trainEstimator(name, xgb, X_train, y_train)    \n",
    "    elapsed(start, comment=\"Trained {0}\".format(name))\n",
    "    return model"
   ]
  },
  {
   "cell_type": "code",
   "execution_count": null,
   "metadata": {},
   "outputs": [],
   "source": []
  },
  {
   "cell_type": "code",
   "execution_count": 4,
   "metadata": {},
   "outputs": [],
   "source": [
    "\n",
    "# coding: utf-8\n",
    "\n",
    "from pandas import Series\n",
    "from datetime import datetime as dt\n",
    "from numpy import prod\n",
    "from sklearn.base import ClassifierMixin,RegressorMixin\n",
    "from xgboost.sklearn import XGBRegressor, XGBClassifier\n",
    "from sklearn.model_selection import GridSearchCV, RandomizedSearchCV\n",
    "\n",
    "\n",
    "###########################################################################\n",
    "#\n",
    "# Train Model\n",
    "#\n",
    "###########################################################################\n",
    "def trainEstimator(name, estimator, X_train, y_train, debug = False):\n",
    "    \"\"\"\n",
    "    Train a scikit-learn estimator\n",
    "    \n",
    "    Inputs:\n",
    "      > name: string\n",
    "      > estimator: a scikit-learn estimator (Regressor or Classifier)\n",
    "      > X_train: the training data (DataFrame)\n",
    "      > y_train: the response data (DataFrame or Series)\n",
    "      > debug: (False) set to True for print statements\n",
    "      \n",
    "    Output: scikit-learn estimator (although not needed since fit results are stored in estimator)\n",
    "    \"\"\"\n",
    "    if debug:\n",
    "        startTime = dt.now()\n",
    "        print(\"Training {0} on {1} rows and {2} features.\".format(name, X_train.shape[0], X_train.shape[1]))\n",
    "    estimator.fit(X_train, y_train)\n",
    "    if debug:\n",
    "        endTime = dt.now()\n",
    "        delta = endTime-startTime\n",
    "        totaltime = delta.seconds\n",
    "    \n",
    "        if totaltime > 60:\n",
    "            units = \"min\"\n",
    "            totaltime /= 60.0\n",
    "        else:\n",
    "            units = \"sec\"\n",
    "        \n",
    "        totaltime = round(totaltime,1)\n",
    "        print(\"Time to train {0} is {1} {2}.\".format(name, totaltime, units))\n",
    "        \n",
    "    return estimator\n",
    "\n",
    "\n",
    "\n",
    "###########################################################################\n",
    "#\n",
    "# Predict Model\n",
    "#\n",
    "###########################################################################\n",
    "def predictEstimator(name, estimator, X_test, y_test = None, y_scaler = None, debug = False):\n",
    "    \"\"\"\n",
    "    Predict response from a scikit-learn estimator\n",
    "    \n",
    "    Inputs:\n",
    "      > name: string\n",
    "      > estimator: a scikit-learn estimator (Regressor or Classifier)\n",
    "      > X_test: the test data (DataFrame)\n",
    "      > y_test: (None) the test response data (DataFrame or Series) (for formating)\n",
    "      > y_scaler: (None) if the response requires transformation\n",
    "      > debug: (False) set to True for print statements\n",
    "      \n",
    "    Output: Dictionary {\"probs\": class probabilities (if Classifer),\n",
    "                        \"labels\": class labels (if Classifier),\n",
    "                        \"values\": response values (if Regressor}\n",
    "    \"\"\"\n",
    "    \n",
    "    if debug:\n",
    "        startTime = dt.now()\n",
    "        print(\"Predicting {0} on {1} rows and {2} features.\".format(name, X_test.shape[0], X_test.shape[1]))\n",
    "        \n",
    "    if isinstance(estimator, ClassifierMixin):\n",
    "        probs  = getProbabilities(name, estimator, X_test)\n",
    "        probs.index = X_test.index\n",
    "        labels = getPredictions(name, estimator, X_test)\n",
    "        labels.index = X_test.index\n",
    "    else:\n",
    "        probs  = None\n",
    "        labels = None\n",
    "    \n",
    "    if isinstance(estimator, RegressorMixin):\n",
    "        values = getPredictions(name, estimator, X_test)\n",
    "        values.index = X_test.index\n",
    "    else:\n",
    "        values = None\n",
    "\n",
    "    ## Invert predicted data\n",
    "    if y_scaler is not None:\n",
    "        values = invertTransform(values, y_scaler)\n",
    "        values.index = X_test.index\n",
    "\n",
    "    retval = {\"probs\": probs, \"labels\": labels, \"values\": values}\n",
    "    \n",
    "    if debug:\n",
    "        endTime = dt.now()\n",
    "        delta = endTime-startTime\n",
    "        totaltime = delta.seconds\n",
    "    \n",
    "        if totaltime > 60:\n",
    "            units = \"min\"\n",
    "            totaltime /= 60.0\n",
    "        else:\n",
    "            units = \"sec\"\n",
    "        \n",
    "        totaltime = round(totaltime,1)\n",
    "        print(\"Time to predict {0} is {1} {2}.\".format(name, totaltime, units))\n",
    "\n",
    "    return retval \n",
    "\n",
    "\n",
    "def getProbabilities(name, estimator, X_test, debug = False):\n",
    "    \"\"\"\n",
    "    Predict class probabilities from a trained estimator\n",
    "    \n",
    "    Inputs:\n",
    "      > name: string\n",
    "      > estimator: a scikit-learn estimator (Regressor or Classifier)\n",
    "      > X_test: the test data (DataFrame)\n",
    "      > debug: (False) set to True for print statements\n",
    "      \n",
    "    Output:\n",
    "      > pandas.Series of class probabilities\n",
    "    \"\"\"\n",
    "\n",
    "    if debug:\n",
    "        print(\"  Computing target probabilities for {0}\".format(name))\n",
    "    probs  = estimator.predict_proba(X_test)[:,1]\n",
    "    probs  = Series(data=probs, name=\"predicted\")\n",
    "    #probs.index = y_test.index\n",
    "    return probs\n",
    "\n",
    "def getPredictions(name, estimator, X_test, debug = False):\n",
    "    \"\"\"\n",
    "    Predict class labels (Classifier) or response (Regressor) from a trained estimator\n",
    "    \n",
    "    Inputs:\n",
    "      > name: string\n",
    "      > estimator: a scikit-learn estimator (Regressor or Classifier)\n",
    "      > X_test: the test data (DataFrame)\n",
    "      > debug: (False) set to True for print statements\n",
    "      \n",
    "    Output:\n",
    "      > pandas.Series of class labels/response\n",
    "    \"\"\"\n",
    "    \n",
    "    if debug:\n",
    "        print(\"  Computing target predictions for {0}\".format(name))\n",
    "    preds  = estimator.predict(X_test)\n",
    "    preds  = Series(data=preds, name=\"predicted\")\n",
    "    #preds.index = y_test.index\n",
    "    return preds\n",
    "\n",
    "\n",
    "\n",
    "###########################################################################\n",
    "#\n",
    "# Tune Estimator\n",
    "#\n",
    "###########################################################################\n",
    "def tuneEstimator(modelname, estimator, X_train, y_train, config, debug = False):\n",
    "    \"\"\"\n",
    "    Hyperparameter tune a scikit-learn estimator\n",
    "    \n",
    "    Inputs:\n",
    "      > modelname: string\n",
    "      > estimator: a scikit-learn estimator (Regressor or Classifier)\n",
    "      > X_train: the training data (DataFrame)\n",
    "      > y_train: the response data (DataFrame or Series)\n",
    "      > config: Dictionary {\"grid\": Dictionary of parameters to scan (example below),\n",
    "                            \"njobs\": number of parallel threads (jobs),\n",
    "                            \"type\": \"grid\" or \"random\",\n",
    "                            \"iter\": number of random iterations to test (10 if not specified)}\n",
    "      > debug: (False) set to True for print statements\n",
    "\n",
    "        Example grid for xgboost: grid = {'min_child_weight': [10, 100, 1000], 'max_depth': [2, 6, 10], 'learning_rate': 0.1, 'gamma': 0.3}\n",
    "        \n",
    "    Output:\n",
    "      > pandas.Series of class labels/response\n",
    "    \"\"\"\n",
    "    \n",
    "    if debug:\n",
    "        print(\"Tuning a {0} estimator\".format(modelname))\n",
    "        verbose=1\n",
    "    else:\n",
    "        verbose=0\n",
    "    \n",
    "    if estimator is None:\n",
    "        print(\"There is no estimator with parameters information.\")\n",
    "        return {\"estimator\": None, \"params\": None, \"cv\": None}\n",
    "\n",
    "\n",
    "    if config.get('grid') is not None:\n",
    "        grid = config['grid']\n",
    "    else:\n",
    "        if isinstance(estimator, [XGBRegressor, XGBClassifier]):\n",
    "            grid = {'min_child_weight': [10, 100, 1000], 'max_depth': [2, 6, 10], 'learning_rate': 0.1, 'gamma': 0.3}\n",
    "        else:\n",
    "            print(\"No grid for {0}\".format(modelname))\n",
    "            return {\"estimator\": estimator, \"params\": estimator.get_params(), \"cv\": None}\n",
    "\n",
    "\n",
    "    scorers = []\n",
    "    if isinstance(estimator, ClassifierMixin):\n",
    "        scorers = [\"accuracy\", \"average_precision\", \"f1\", \"f1_micro\",\n",
    "                   \"f1_macro\", \"f1_weighted\", \"f1_samples\", \"neg_log_loss\",\n",
    "                   \"precision\", \"recall\", \"roc_auc\"]\n",
    "        scorer = \"roc_auc\"\n",
    "    \n",
    "\n",
    "    if isinstance(estimator, RegressorMixin):\n",
    "        scorers = [\"explained_variance\", \"neg_mean_absolute_error\",\n",
    "                   \"neg_mean_squared_error\", \"neg_mean_squared_log_error\",\n",
    "                   \"neg_median_absolute_error\", \"r2\"]\n",
    "        scorer = \"neg_mean_absolute_error\"\n",
    "\n",
    "    if scorer not in scorers:\n",
    "        raise ValueError(\"Scorer {0} is not allowed\".format(scorer))\n",
    "\n",
    "    searchType = config.get('type')\n",
    "    if searchType is None:\n",
    "        searchType = \"random\"\n",
    "    if config.get('njobs') is not None:\n",
    "        njobs = config['njobs']\n",
    "    else:\n",
    "        njobs = 2\n",
    "        \n",
    "    if searchType == \"grid\":\n",
    "        tuneEstimator = GridSearchCV(estimator, param_grid=grid, cv=2,\n",
    "                                     scoring=scorer, verbose=verbose, n_jobs=njobs)\n",
    "    elif searchType == \"random\":\n",
    "        n_iter_search = config.get('iter')\n",
    "        if n_iter_search is None:\n",
    "            nMax  = 10\n",
    "            n_iter_search = min(nMax, prod([len(x) for x in config['grid'].values()]))         \n",
    "        tuneEstimator = RandomizedSearchCV(estimator, param_distributions=grid,\n",
    "                                           cv=2, n_iter=n_iter_search,\n",
    "                                           verbose=verbose, n_jobs=njobs,\n",
    "                                           return_train_score=True)\n",
    "    else:\n",
    "        raise ValueError(\"Search type {0} is not allowed\".format(searchType))\n",
    "\n",
    "    if debug:\n",
    "        print(\"Running {0} parameter search\".format(searchType))\n",
    "    tuneEstimator.fit(X_train, y_train)\n",
    "    bestEstimator = tuneEstimator.best_estimator_        \n",
    "    bestScore     = tuneEstimator.best_score_\n",
    "    bestParams    = tuneEstimator.best_params_\n",
    "    cvResults     = tuneEstimator.cv_results_\n",
    "    cvScores      = cvResults['mean_test_score']\n",
    "    fitTimes      = cvResults['mean_fit_time']\n",
    "\n",
    "    if debug:\n",
    "        print(\"Tested {0} Parameter Sets\".format(len(fitTimes)))\n",
    "        print(\"CV Fit Time Info (Mean,Std): ({0} , {1})\".format(round(fitTimes.mean(),1), round(fitTimes.std(),1)))\n",
    "        print(\"Best Score                 : {0}\".format(round(bestScore, 3)))\n",
    "        print(\"Worst Score                : {0}\".format(round(min(cvScores), 3)))\n",
    "        print(\"CV Test Scores (Mean,Std)  : ({0} , {1})\".format(round(cvScores.mean(),1), round(cvScores.std(),1)))\n",
    "        print(\"Best Parameters\")\n",
    "        for paramName, paramVal in bestParams.items():\n",
    "            print(\"Param: {0} = {1}\".format(paramName, paramVal))    \n",
    "\n",
    "    return {\"estimator\": bestEstimator, \"params\": bestParams, \"cv\": cvResults}\n",
    "\n",
    "\n"
   ]
  },
  {
   "cell_type": "code",
   "execution_count": null,
   "metadata": {},
   "outputs": [],
   "source": []
  }
 ],
 "metadata": {
  "kernelspec": {
   "display_name": "Python 3",
   "language": "python",
   "name": "python3"
  },
  "language_info": {
   "codemirror_mode": {
    "name": "ipython",
    "version": 3
   },
   "file_extension": ".py",
   "mimetype": "text/x-python",
   "name": "python",
   "nbconvert_exporter": "python",
   "pygments_lexer": "ipython3",
   "version": "3.6.6"
  }
 },
 "nbformat": 4,
 "nbformat_minor": 2
}
